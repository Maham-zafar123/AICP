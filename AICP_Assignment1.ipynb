{
 "cells": [
  {
   "cell_type": "code",
   "execution_count": null,
   "id": "a6992f2a-d40f-44b1-993c-c886afd7d422",
   "metadata": {},
   "outputs": [],
   "source": []
  },
  {
   "cell_type": "markdown",
   "id": "3aca46bc-e2fb-4a4d-a8c1-6df0d2c46d2b",
   "metadata": {},
   "source": [
    "# AICP FIRST TASK"
   ]
  },
  {
   "cell_type": "markdown",
   "id": "7c4d36a6-d708-46db-b600-f2f14c3c165d",
   "metadata": {},
   "source": [
    "## IMPORT LIBRARIES"
   ]
  },
  {
   "cell_type": "code",
   "execution_count": 2,
   "id": "775613dd-6eb5-495d-8e48-b4e54a061a0a",
   "metadata": {},
   "outputs": [],
   "source": [
    "import numpy as np"
   ]
  },
  {
   "cell_type": "markdown",
   "id": "45966830-3140-4ce4-91e0-8f8b7ab9f252",
   "metadata": {},
   "source": [
    "# Write a NumPy program to create an array of all even integers from 30 to 70.\n"
   ]
  },
  {
   "cell_type": "code",
   "execution_count": 3,
   "id": "67b210cc-f333-4c41-8ef8-24fef30f0295",
   "metadata": {},
   "outputs": [
    {
     "data": {
      "text/plain": [
       "array([30, 32, 34, 36, 38, 40, 42, 44, 46, 48, 50, 52, 54, 56, 58, 60, 62,\n",
       "       64, 66, 68, 70])"
      ]
     },
     "execution_count": 3,
     "metadata": {},
     "output_type": "execute_result"
    }
   ],
   "source": [
    "even_aaray1=np.arange(30,72,2)\n",
    "even_aaray1"
   ]
  },
  {
   "cell_type": "markdown",
   "id": "566934a1-712f-4d98-8047-ac17f9f0d925",
   "metadata": {},
   "source": [
    "# Write a NumPy program to generate an array of 15 random numbers from a standard normal distribution.\n"
   ]
  },
  {
   "cell_type": "code",
   "execution_count": 4,
   "id": "49806300-61f9-48b2-a0eb-b63aa5f7e6d9",
   "metadata": {},
   "outputs": [
    {
     "name": "stdout",
     "output_type": "stream",
     "text": [
      "Array of 15 random numbers from standard normal distribution:\n",
      "[ 1.24418936 -0.80964587  0.63307217  0.44963532  0.87613498 -0.7265905\n",
      " -0.62968854  0.07486996 -0.19266717 -0.30295783  0.50292575  0.8183978\n",
      "  0.94276476 -1.65662318  1.370704  ]\n"
     ]
    }
   ],
   "source": [
    "random_numbers = np.random.randn(15)\n",
    "print(\"Array of 15 random numbers from standard normal distribution:\")\n",
    "print(random_numbers)"
   ]
  },
  {
   "cell_type": "markdown",
   "id": "31f9932d-7f77-49ee-9003-95aea45db8bd",
   "metadata": {},
   "source": [
    "# How to compute the cross-product of two matrices in NumPy?"
   ]
  },
  {
   "cell_type": "code",
   "execution_count": 5,
   "id": "8c14251b-2b7e-4b68-a965-062d76cfd811",
   "metadata": {},
   "outputs": [
    {
     "data": {
      "text/plain": [
       "matrix([[5, 6, 7],\n",
       "        [4, 6, 8]])"
      ]
     },
     "execution_count": 5,
     "metadata": {},
     "output_type": "execute_result"
    }
   ],
   "source": [
    "matrix_1=np.matrix([[5, 6, 7], [4, 6,8]])\n",
    "matrix_2=np.matrix([[34,6,8],[37,98,5]])\n",
    "matrix_1\n"
   ]
  },
  {
   "cell_type": "code",
   "execution_count": 6,
   "id": "cb0334e9-92fb-4947-aad6-e4f79f2deea9",
   "metadata": {},
   "outputs": [
    {
     "data": {
      "text/plain": [
       "matrix([[34,  6,  8],\n",
       "        [37, 98,  5]])"
      ]
     },
     "execution_count": 6,
     "metadata": {},
     "output_type": "execute_result"
    }
   ],
   "source": [
    "matrix_2"
   ]
  },
  {
   "cell_type": "code",
   "execution_count": 7,
   "id": "776b1ef0-030d-4305-a10e-6356817f3c0c",
   "metadata": {},
   "outputs": [
    {
     "data": {
      "text/plain": [
       "array([[   6,  198, -174],\n",
       "       [-754,  276,  170]])"
      ]
     },
     "execution_count": 7,
     "metadata": {},
     "output_type": "execute_result"
    }
   ],
   "source": [
    "cross_product=np.cross(matrix_1,matrix_2)\n",
    "cross_product"
   ]
  },
  {
   "cell_type": "markdown",
   "id": "d1d7c07a-a06e-4bb1-a96e-bb05ab96ce07",
   "metadata": {},
   "source": [
    "# How to compute the determinant of an array using NumPy?"
   ]
  },
  {
   "cell_type": "code",
   "execution_count": 8,
   "id": "7d3b07d7-39c3-4435-885a-cfe58deb5da3",
   "metadata": {},
   "outputs": [
    {
     "data": {
      "text/plain": [
       "array([[ 24,  22,  16,  14],\n",
       "       [ 88,   6,   4,   9],\n",
       "       [ 14,  23,  21,  30],\n",
       "       [100,  54,  32,  33]])"
      ]
     },
     "execution_count": 8,
     "metadata": {},
     "output_type": "execute_result"
    }
   ],
   "source": [
    "array_1=np.array(([24,22,16,14], [88,6,4,9],[14,23,21,30], [100,54,32, 33]))\n",
    "array_1"
   ]
  },
  {
   "cell_type": "code",
   "execution_count": 9,
   "id": "caff58f4-5513-45dd-a030-e82372f45fcc",
   "metadata": {},
   "outputs": [
    {
     "data": {
      "text/plain": [
       "-174040.0000000001"
      ]
     },
     "execution_count": 9,
     "metadata": {},
     "output_type": "execute_result"
    }
   ],
   "source": [
    "det_value = np.linalg.det(array_1)\n",
    "det_value"
   ]
  },
  {
   "cell_type": "markdown",
   "id": "4d9f47b9-245f-44ef-b903-c7a529211196",
   "metadata": {},
   "source": [
    "# How to create a 3x3x3 array with random values using NumPy?"
   ]
  },
  {
   "cell_type": "code",
   "execution_count": 10,
   "id": "90681c25-63f4-451e-95b7-a80725ee370f",
   "metadata": {},
   "outputs": [
    {
     "data": {
      "text/plain": [
       "array([[[-1.19102102,  0.08050811,  1.1924023 ],\n",
       "        [ 1.15043596,  0.23552575,  1.49812165],\n",
       "        [-0.03784757,  1.01096734, -0.57191801]],\n",
       "\n",
       "       [[ 0.07166154, -0.29568514, -1.54746193],\n",
       "        [-1.12318596, -1.74277784, -0.44248282],\n",
       "        [-1.20261463, -0.49400613, -0.92242648]],\n",
       "\n",
       "       [[ 1.36062817,  0.75507628, -0.12426322],\n",
       "        [ 0.66501917,  1.34665728, -0.00969413],\n",
       "        [-0.70052843, -0.54728701, -0.40998784]]])"
      ]
     },
     "execution_count": 10,
     "metadata": {},
     "output_type": "execute_result"
    }
   ],
   "source": [
    "array_3=array_3 = np.random.randn(3, 3, 3)\n",
    "array_3"
   ]
  },
  {
   "cell_type": "markdown",
   "id": "a7900897-bf35-4b57-87ed-e06c38d331f4",
   "metadata": {},
   "source": [
    "# How to create a 5x5 array with random values and find the minimum and maximum values using NumPy?\n"
   ]
  },
  {
   "cell_type": "code",
   "execution_count": 11,
   "id": "7289c075-d634-474a-a59a-21ab8b852b7f",
   "metadata": {},
   "outputs": [
    {
     "data": {
      "text/plain": [
       "array([[ 0.6227223 ,  0.47100833, -0.27086359,  0.42305009,  0.24739784],\n",
       "       [-1.21412416, -1.43631226,  0.13299037,  0.52330009, -0.13956112],\n",
       "       [ 0.19493195, -1.68576814,  0.2913981 ,  0.1893584 ,  0.38059684],\n",
       "       [-0.17891532, -1.10737753,  1.47129722, -0.49950732, -1.21773301],\n",
       "       [ 0.35442684,  0.66584437, -0.69430902,  1.17657344, -0.46602612]])"
      ]
     },
     "execution_count": 11,
     "metadata": {},
     "output_type": "execute_result"
    }
   ],
   "source": [
    "array_5=array_3 = np.random.randn(5, 5)\n",
    "array_5"
   ]
  },
  {
   "cell_type": "code",
   "execution_count": 12,
   "id": "6768c292-1a30-45a1-836e-01bbf0711f9c",
   "metadata": {},
   "outputs": [
    {
     "data": {
      "text/plain": [
       "1.471297220776394"
      ]
     },
     "execution_count": 12,
     "metadata": {},
     "output_type": "execute_result"
    }
   ],
   "source": [
    "array_3.max()\n"
   ]
  },
  {
   "cell_type": "code",
   "execution_count": 13,
   "id": "f1154294-a081-47d5-a97f-4efbf24ce053",
   "metadata": {},
   "outputs": [
    {
     "data": {
      "text/plain": [
       "-1.6857681444905117"
      ]
     },
     "execution_count": 13,
     "metadata": {},
     "output_type": "execute_result"
    }
   ],
   "source": [
    "array_3.min()"
   ]
  },
  {
   "cell_type": "markdown",
   "id": "1ae03813-a192-4417-9bc2-fe5dee217bf6",
   "metadata": {},
   "source": [
    "# How to compute the mean, standard deviation, and variance of a given array along the second axis in NumPy?"
   ]
  },
  {
   "cell_type": "code",
   "execution_count": 14,
   "id": "53d57d6d-8209-498b-a5be-27f9c3549e15",
   "metadata": {},
   "outputs": [
    {
     "data": {
      "text/plain": [
       "array([[1, 2, 3],\n",
       "       [4, 5, 6],\n",
       "       [7, 8, 9]])"
      ]
     },
     "execution_count": 14,
     "metadata": {},
     "output_type": "execute_result"
    }
   ],
   "source": [
    "array_2d = np.array([[1, 2, 3],\n",
    "                    [4, 5, 6],\n",
    "                    [7, 8, 9]])\n",
    "array_2d"
   ]
  },
  {
   "cell_type": "code",
   "execution_count": 15,
   "id": "8e5491eb-dfa5-4168-a343-524b7060a5d1",
   "metadata": {},
   "outputs": [
    {
     "name": "stdout",
     "output_type": "stream",
     "text": [
      "Mean along the second axis:\n",
      "[2. 5. 8.]\n",
      "\n",
      "Standard Deviation along the second axis:\n",
      "[0.81649658 0.81649658 0.81649658]\n",
      "\n",
      "Variance along the second axis:\n",
      "[0.66666667 0.66666667 0.66666667]\n"
     ]
    }
   ],
   "source": [
    "mean_values = np.mean(array_2d, axis=1)\n",
    "std_dev_values = np.std(array_2d, axis=1)\n",
    "variance_values = np.var(array_2d, axis=1)\n",
    "\n",
    "print(\"Mean along the second axis:\")\n",
    "print(mean_values)\n",
    "\n",
    "print(\"\\nStandard Deviation along the second axis:\")\n",
    "print(std_dev_values)\n",
    "\n",
    "print(\"\\nVariance along the second axis:\")\n",
    "print(variance_values)"
   ]
  },
  {
   "cell_type": "code",
   "execution_count": null,
   "id": "b50a9ba3-7177-401d-a4a0-587c1ac22dc9",
   "metadata": {},
   "outputs": [],
   "source": []
  },
  {
   "cell_type": "code",
   "execution_count": null,
   "id": "7df306bb-88da-4128-b65f-1f7055bd070c",
   "metadata": {},
   "outputs": [],
   "source": []
  },
  {
   "cell_type": "code",
   "execution_count": null,
   "id": "4f64b5cb-9a7c-45b4-9aca-a09598d4293c",
   "metadata": {},
   "outputs": [],
   "source": []
  }
 ],
 "metadata": {
  "kernelspec": {
   "display_name": "Python 3 (ipykernel)",
   "language": "python",
   "name": "python3"
  },
  "language_info": {
   "codemirror_mode": {
    "name": "ipython",
    "version": 3
   },
   "file_extension": ".py",
   "mimetype": "text/x-python",
   "name": "python",
   "nbconvert_exporter": "python",
   "pygments_lexer": "ipython3",
   "version": "3.11.4"
  }
 },
 "nbformat": 4,
 "nbformat_minor": 5
}
