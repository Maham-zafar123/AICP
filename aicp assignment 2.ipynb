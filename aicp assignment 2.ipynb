{
 "cells": [
  {
   "cell_type": "markdown",
   "id": "ccb26d4b-7eac-4ba6-b36d-29b9487c4b3c",
   "metadata": {},
   "source": [
    "\n",
    "# EDA Internship Task Week 2"
   ]
  },
  {
   "cell_type": "markdown",
   "id": "abab6c22-12ed-4afd-874d-7dbd67c14348",
   "metadata": {},
   "source": [
    "# IMPORT LIBRARIES"
   ]
  },
  {
   "cell_type": "code",
   "execution_count": 1,
   "id": "9cfddecb-6369-42e7-a091-1b5697ae7100",
   "metadata": {},
   "outputs": [],
   "source": [
    "import pandas as pd\n"
   ]
  },
  {
   "cell_type": "markdown",
   "id": "b2a7410c-e407-4c3c-8b30-622f70c5447a",
   "metadata": {},
   "source": [
    "## QUESTION NO 1:\n",
    "### Writer pandas series code to get following output without using dictionary:\n",
    "\n",
    "\n",
    "\n"
   ]
  },
  {
   "cell_type": "code",
   "execution_count": 2,
   "id": "1cff6fa5-eed0-48c0-848b-a02709250e56",
   "metadata": {},
   "outputs": [
    {
     "name": "stdout",
     "output_type": "stream",
     "text": [
      "a    1\n",
      "x    4\n",
      "c    9\n",
      "2    6\n",
      "e    7\n",
      "dtype: int64\n"
     ]
    }
   ],
   "source": [
    "data = [1, 4, 9, 6, 7]\n",
    "index = ['a', 'x', 'c', '2','e']\n",
    "\n",
    "series = pd.Series(data, index=index, dtype='int64')\n",
    "\n",
    "print(series)"
   ]
  },
  {
   "cell_type": "markdown",
   "id": "9dba75af-0b7c-456f-b6e5-ccdb93de39f8",
   "metadata": {},
   "source": [
    "## QUESTION NO 2:\n",
    "### Writer pandas series code to get following output without using dictionary:"
   ]
  },
  {
   "cell_type": "code",
   "execution_count": 3,
   "id": "00415c06-dd0f-4932-a491-259cf81b6e34",
   "metadata": {},
   "outputs": [
    {
     "name": "stdout",
     "output_type": "stream",
     "text": [
      "Bilal     42\n",
      "Ayesha    38\n",
      "Hadia     39\n",
      "dtype: int64\n"
     ]
    }
   ],
   "source": [
    "data2 = [42,38,39]\n",
    "index2 = ['Bilal', 'Ayesha', 'Hadia']\n",
    "\n",
    "series = pd.Series(data2, index=index2,dtype='int64')\n",
    "\n",
    "print(series)"
   ]
  },
  {
   "cell_type": "markdown",
   "id": "2528f55d-cb82-4ca1-a1a8-a2c9cdb22ad5",
   "metadata": {},
   "source": [
    "## QUESTION NO 3:\n",
    "### Writer pandas series code to get following output:"
   ]
  },
  {
   "cell_type": "code",
   "execution_count": 4,
   "id": "e5ab2702-82e5-40b3-8090-2adc903476e0",
   "metadata": {},
   "outputs": [
    {
     "data": {
      "text/html": [
       "<div>\n",
       "<style scoped>\n",
       "    .dataframe tbody tr th:only-of-type {\n",
       "        vertical-align: middle;\n",
       "    }\n",
       "\n",
       "    .dataframe tbody tr th {\n",
       "        vertical-align: top;\n",
       "    }\n",
       "\n",
       "    .dataframe thead th {\n",
       "        text-align: right;\n",
       "    }\n",
       "</style>\n",
       "<table border=\"1\" class=\"dataframe\">\n",
       "  <thead>\n",
       "    <tr style=\"text-align: right;\">\n",
       "      <th></th>\n",
       "      <th>day</th>\n",
       "      <th>temperature</th>\n",
       "      <th>windspeed</th>\n",
       "      <th>event</th>\n",
       "    </tr>\n",
       "  </thead>\n",
       "  <tbody>\n",
       "    <tr>\n",
       "      <th>0</th>\n",
       "      <td>1/1/2017</td>\n",
       "      <td>32</td>\n",
       "      <td>6</td>\n",
       "      <td>Rain</td>\n",
       "    </tr>\n",
       "    <tr>\n",
       "      <th>1</th>\n",
       "      <td>1/2/2017</td>\n",
       "      <td>35</td>\n",
       "      <td>7</td>\n",
       "      <td>Sunny</td>\n",
       "    </tr>\n",
       "    <tr>\n",
       "      <th>2</th>\n",
       "      <td>1/3/2017</td>\n",
       "      <td>28</td>\n",
       "      <td>2</td>\n",
       "      <td>Snow</td>\n",
       "    </tr>\n",
       "    <tr>\n",
       "      <th>3</th>\n",
       "      <td>1/4/2017</td>\n",
       "      <td>24</td>\n",
       "      <td>7</td>\n",
       "      <td>Snow</td>\n",
       "    </tr>\n",
       "    <tr>\n",
       "      <th>4</th>\n",
       "      <td>1/5/2017</td>\n",
       "      <td>32</td>\n",
       "      <td>4</td>\n",
       "      <td>Rain</td>\n",
       "    </tr>\n",
       "    <tr>\n",
       "      <th>5</th>\n",
       "      <td>1/6/2017</td>\n",
       "      <td>31</td>\n",
       "      <td>2</td>\n",
       "      <td>Sunny</td>\n",
       "    </tr>\n",
       "  </tbody>\n",
       "</table>\n",
       "</div>"
      ],
      "text/plain": [
       "        day  temperature  windspeed  event\n",
       "0  1/1/2017           32          6   Rain\n",
       "1  1/2/2017           35          7  Sunny\n",
       "2  1/3/2017           28          2   Snow\n",
       "3  1/4/2017           24          7   Snow\n",
       "4  1/5/2017           32          4   Rain\n",
       "5  1/6/2017           31          2  Sunny"
      ]
     },
     "execution_count": 4,
     "metadata": {},
     "output_type": "execute_result"
    }
   ],
   "source": [
    "\n",
    "data = {'day': ['1/1/2017', '1/2/2017', '1/3/2017', '1/4/2017','1/5/2017','1/6/2017'],\n",
    "        'temperature': [32, 35, 28, 24,32,31],\n",
    "        'windspeed': [6, 7, 2, 7,4,2],\n",
    "        'event': ['Rain','Sunny', 'Snow', 'Snow', 'Rain','Sunny']}\n",
    "\n",
    "# Creating a DataFrame\n",
    "df = pd.DataFrame(data)\n",
    "\n",
    "# Display the DataFrame\n",
    "df\n"
   ]
  },
  {
   "cell_type": "markdown",
   "id": "9a803ed1-a48c-48a9-8b52-a5d0cc40a948",
   "metadata": {},
   "source": [
    "## QUESTION NO 4:\n",
    "### In extension to above question, you are required to replace index by ['a','b','c','d','e','f']\n"
   ]
  },
  {
   "cell_type": "code",
   "execution_count": 5,
   "id": "2bdd7a7d-383a-4960-9918-33a4c84a1497",
   "metadata": {},
   "outputs": [
    {
     "data": {
      "text/html": [
       "<div>\n",
       "<style scoped>\n",
       "    .dataframe tbody tr th:only-of-type {\n",
       "        vertical-align: middle;\n",
       "    }\n",
       "\n",
       "    .dataframe tbody tr th {\n",
       "        vertical-align: top;\n",
       "    }\n",
       "\n",
       "    .dataframe thead th {\n",
       "        text-align: right;\n",
       "    }\n",
       "</style>\n",
       "<table border=\"1\" class=\"dataframe\">\n",
       "  <thead>\n",
       "    <tr style=\"text-align: right;\">\n",
       "      <th></th>\n",
       "      <th>day</th>\n",
       "      <th>temperature</th>\n",
       "      <th>windspeed</th>\n",
       "      <th>event</th>\n",
       "    </tr>\n",
       "  </thead>\n",
       "  <tbody>\n",
       "    <tr>\n",
       "      <th>a</th>\n",
       "      <td>1/1/2017</td>\n",
       "      <td>32</td>\n",
       "      <td>6</td>\n",
       "      <td>Rain</td>\n",
       "    </tr>\n",
       "    <tr>\n",
       "      <th>b</th>\n",
       "      <td>1/2/2017</td>\n",
       "      <td>35</td>\n",
       "      <td>7</td>\n",
       "      <td>Sunny</td>\n",
       "    </tr>\n",
       "    <tr>\n",
       "      <th>c</th>\n",
       "      <td>1/3/2017</td>\n",
       "      <td>28</td>\n",
       "      <td>2</td>\n",
       "      <td>Snow</td>\n",
       "    </tr>\n",
       "    <tr>\n",
       "      <th>d</th>\n",
       "      <td>1/4/2017</td>\n",
       "      <td>24</td>\n",
       "      <td>7</td>\n",
       "      <td>Snow</td>\n",
       "    </tr>\n",
       "    <tr>\n",
       "      <th>e</th>\n",
       "      <td>1/5/2017</td>\n",
       "      <td>32</td>\n",
       "      <td>4</td>\n",
       "      <td>Rain</td>\n",
       "    </tr>\n",
       "    <tr>\n",
       "      <th>f</th>\n",
       "      <td>1/6/2017</td>\n",
       "      <td>31</td>\n",
       "      <td>2</td>\n",
       "      <td>Sunny</td>\n",
       "    </tr>\n",
       "  </tbody>\n",
       "</table>\n",
       "</div>"
      ],
      "text/plain": [
       "        day  temperature  windspeed  event\n",
       "a  1/1/2017           32          6   Rain\n",
       "b  1/2/2017           35          7  Sunny\n",
       "c  1/3/2017           28          2   Snow\n",
       "d  1/4/2017           24          7   Snow\n",
       "e  1/5/2017           32          4   Rain\n",
       "f  1/6/2017           31          2  Sunny"
      ]
     },
     "execution_count": 5,
     "metadata": {},
     "output_type": "execute_result"
    }
   ],
   "source": [
    "df.index=['a','b','c','d','e','f']\n",
    "df"
   ]
  },
  {
   "cell_type": "markdown",
   "id": "37887cfb-7f93-4a03-8295-daa2881111bd",
   "metadata": {},
   "source": [
    "## QUESTION NO 5:\n",
    "### In extension to above Q.3, calculate mean, miximum and minimum for label “temperature”"
   ]
  },
  {
   "cell_type": "code",
   "execution_count": 6,
   "id": "5feb5b81-dc8a-45bb-a598-f22837005b55",
   "metadata": {},
   "outputs": [
    {
     "name": "stdout",
     "output_type": "stream",
     "text": [
      "Mean Temperature: 30.333333333333332\n",
      "Maximum Temperature: 35\n",
      "Minimum Temperature: 24\n"
     ]
    }
   ],
   "source": [
    "temperature_mean = df['temperature'].mean()\n",
    "temperature_max = df['temperature'].max()\n",
    "temperature_min = df['temperature'].min()\n",
    "\n",
    "# Display the results\n",
    "print(f\"Mean Temperature: {temperature_mean}\")\n",
    "print(f\"Maximum Temperature: {temperature_max}\")\n",
    "print(f\"Minimum Temperature: {temperature_min}\")"
   ]
  },
  {
   "cell_type": "markdown",
   "id": "1f7a329f-830c-4db4-9600-66b33dc387ae",
   "metadata": {},
   "source": [
    "## QUESTION NO 6:\n",
    "### Import CSV ‘people.csv’ in the given folder. \n",
    "### Keep in mind the following instructions:\n",
    "### You’re required to import only specific columns [\"First Name\", \"Sex\", \"Email\", “Phone”, “Job Title”]\n",
    "### Set the following columns [\"Sex\", \"Job Title\"] as index columns\n",
    "### Skip following rows [1,5]\n",
    "### Export the CSV as “NewPeople.csv”"
   ]
  },
  {
   "cell_type": "code",
   "execution_count": 7,
   "id": "3fa141d1-416d-4479-890c-a09415588c5c",
   "metadata": {},
   "outputs": [
    {
     "data": {
      "text/html": [
       "<div>\n",
       "<style scoped>\n",
       "    .dataframe tbody tr th:only-of-type {\n",
       "        vertical-align: middle;\n",
       "    }\n",
       "\n",
       "    .dataframe tbody tr th {\n",
       "        vertical-align: top;\n",
       "    }\n",
       "\n",
       "    .dataframe thead th {\n",
       "        text-align: right;\n",
       "    }\n",
       "</style>\n",
       "<table border=\"1\" class=\"dataframe\">\n",
       "  <thead>\n",
       "    <tr style=\"text-align: right;\">\n",
       "      <th></th>\n",
       "      <th>First Name</th>\n",
       "      <th>Sex</th>\n",
       "      <th>Email</th>\n",
       "      <th>Phone</th>\n",
       "      <th>Job Title</th>\n",
       "    </tr>\n",
       "  </thead>\n",
       "  <tbody>\n",
       "    <tr>\n",
       "      <th>0</th>\n",
       "      <td>Phillip</td>\n",
       "      <td>Female</td>\n",
       "      <td>bethany14@example.com</td>\n",
       "      <td>214.112.6044x4913</td>\n",
       "      <td>Phytotherapist</td>\n",
       "    </tr>\n",
       "    <tr>\n",
       "      <th>1</th>\n",
       "      <td>Kristine</td>\n",
       "      <td>Male</td>\n",
       "      <td>bthompson@example.com</td>\n",
       "      <td>277.609.7938</td>\n",
       "      <td>Homeopath</td>\n",
       "    </tr>\n",
       "    <tr>\n",
       "      <th>2</th>\n",
       "      <td>Yesenia</td>\n",
       "      <td>Male</td>\n",
       "      <td>kaitlinkaiser@example.com</td>\n",
       "      <td>584.094.6111</td>\n",
       "      <td>Market researcher</td>\n",
       "    </tr>\n",
       "    <tr>\n",
       "      <th>3</th>\n",
       "      <td>Erin</td>\n",
       "      <td>Male</td>\n",
       "      <td>tconner@example.org</td>\n",
       "      <td>001-171-649-9856x5553</td>\n",
       "      <td>Waste management officer</td>\n",
       "    </tr>\n",
       "    <tr>\n",
       "      <th>4</th>\n",
       "      <td>Katherine</td>\n",
       "      <td>Female</td>\n",
       "      <td>conniecowan@example.com</td>\n",
       "      <td>+1-773-151-6685x49162</td>\n",
       "      <td>Intelligence analyst</td>\n",
       "    </tr>\n",
       "    <tr>\n",
       "      <th>...</th>\n",
       "      <td>...</td>\n",
       "      <td>...</td>\n",
       "      <td>...</td>\n",
       "      <td>...</td>\n",
       "      <td>...</td>\n",
       "    </tr>\n",
       "    <tr>\n",
       "      <th>93</th>\n",
       "      <td>Dennis</td>\n",
       "      <td>Female</td>\n",
       "      <td>bmartin@example.org</td>\n",
       "      <td>001-095-524-2112x257</td>\n",
       "      <td>Software engineer</td>\n",
       "    </tr>\n",
       "    <tr>\n",
       "      <th>94</th>\n",
       "      <td>Steve</td>\n",
       "      <td>Female</td>\n",
       "      <td>latasha46@example.net</td>\n",
       "      <td>001-865-478-5157</td>\n",
       "      <td>Barrister</td>\n",
       "    </tr>\n",
       "    <tr>\n",
       "      <th>95</th>\n",
       "      <td>Wesley</td>\n",
       "      <td>Male</td>\n",
       "      <td>regina11@example.org</td>\n",
       "      <td>995-542-3004x76800</td>\n",
       "      <td>Police officer</td>\n",
       "    </tr>\n",
       "    <tr>\n",
       "      <th>96</th>\n",
       "      <td>Summer</td>\n",
       "      <td>Female</td>\n",
       "      <td>alexiscantrell@example.org</td>\n",
       "      <td>001-273-685-6932x092</td>\n",
       "      <td>Broadcast journalist</td>\n",
       "    </tr>\n",
       "    <tr>\n",
       "      <th>97</th>\n",
       "      <td>Mariah</td>\n",
       "      <td>Male</td>\n",
       "      <td>pcopeland@example.org</td>\n",
       "      <td>(341)594-6554x44657</td>\n",
       "      <td>IT sales professional</td>\n",
       "    </tr>\n",
       "  </tbody>\n",
       "</table>\n",
       "<p>98 rows × 5 columns</p>\n",
       "</div>"
      ],
      "text/plain": [
       "   First Name     Sex                       Email                  Phone  \\\n",
       "0     Phillip  Female       bethany14@example.com      214.112.6044x4913   \n",
       "1    Kristine    Male       bthompson@example.com           277.609.7938   \n",
       "2     Yesenia    Male   kaitlinkaiser@example.com           584.094.6111   \n",
       "3        Erin    Male         tconner@example.org  001-171-649-9856x5553   \n",
       "4   Katherine  Female     conniecowan@example.com  +1-773-151-6685x49162   \n",
       "..        ...     ...                         ...                    ...   \n",
       "93     Dennis  Female         bmartin@example.org   001-095-524-2112x257   \n",
       "94      Steve  Female       latasha46@example.net       001-865-478-5157   \n",
       "95     Wesley    Male        regina11@example.org     995-542-3004x76800   \n",
       "96     Summer  Female  alexiscantrell@example.org   001-273-685-6932x092   \n",
       "97     Mariah    Male       pcopeland@example.org    (341)594-6554x44657   \n",
       "\n",
       "                   Job Title  \n",
       "0             Phytotherapist  \n",
       "1                  Homeopath  \n",
       "2          Market researcher  \n",
       "3   Waste management officer  \n",
       "4       Intelligence analyst  \n",
       "..                       ...  \n",
       "93         Software engineer  \n",
       "94                 Barrister  \n",
       "95            Police officer  \n",
       "96      Broadcast journalist  \n",
       "97     IT sales professional  \n",
       "\n",
       "[98 rows x 5 columns]"
      ]
     },
     "execution_count": 7,
     "metadata": {},
     "output_type": "execute_result"
    }
   ],
   "source": [
    "data_people = pd.read_csv('people.csv', usecols=[\"First Name\", \"Sex\", \"Email\", \"Phone\", \"Job Title\"], skiprows=[1, 5])\n",
    "data_people\n"
   ]
  },
  {
   "cell_type": "code",
   "execution_count": 8,
   "id": "b2c8b1aa-e9b3-403c-a15a-9417f78a7048",
   "metadata": {},
   "outputs": [
    {
     "data": {
      "text/html": [
       "<div>\n",
       "<style scoped>\n",
       "    .dataframe tbody tr th:only-of-type {\n",
       "        vertical-align: middle;\n",
       "    }\n",
       "\n",
       "    .dataframe tbody tr th {\n",
       "        vertical-align: top;\n",
       "    }\n",
       "\n",
       "    .dataframe thead th {\n",
       "        text-align: right;\n",
       "    }\n",
       "</style>\n",
       "<table border=\"1\" class=\"dataframe\">\n",
       "  <thead>\n",
       "    <tr style=\"text-align: right;\">\n",
       "      <th></th>\n",
       "      <th></th>\n",
       "      <th>First Name</th>\n",
       "      <th>Email</th>\n",
       "      <th>Phone</th>\n",
       "    </tr>\n",
       "    <tr>\n",
       "      <th>Sex</th>\n",
       "      <th>Job Title</th>\n",
       "      <th></th>\n",
       "      <th></th>\n",
       "      <th></th>\n",
       "    </tr>\n",
       "  </thead>\n",
       "  <tbody>\n",
       "    <tr>\n",
       "      <th>Female</th>\n",
       "      <th>Phytotherapist</th>\n",
       "      <td>Phillip</td>\n",
       "      <td>bethany14@example.com</td>\n",
       "      <td>214.112.6044x4913</td>\n",
       "    </tr>\n",
       "    <tr>\n",
       "      <th rowspan=\"3\" valign=\"top\">Male</th>\n",
       "      <th>Homeopath</th>\n",
       "      <td>Kristine</td>\n",
       "      <td>bthompson@example.com</td>\n",
       "      <td>277.609.7938</td>\n",
       "    </tr>\n",
       "    <tr>\n",
       "      <th>Market researcher</th>\n",
       "      <td>Yesenia</td>\n",
       "      <td>kaitlinkaiser@example.com</td>\n",
       "      <td>584.094.6111</td>\n",
       "    </tr>\n",
       "    <tr>\n",
       "      <th>Waste management officer</th>\n",
       "      <td>Erin</td>\n",
       "      <td>tconner@example.org</td>\n",
       "      <td>001-171-649-9856x5553</td>\n",
       "    </tr>\n",
       "    <tr>\n",
       "      <th rowspan=\"4\" valign=\"top\">Female</th>\n",
       "      <th>Intelligence analyst</th>\n",
       "      <td>Katherine</td>\n",
       "      <td>conniecowan@example.com</td>\n",
       "      <td>+1-773-151-6685x49162</td>\n",
       "    </tr>\n",
       "    <tr>\n",
       "      <th>...</th>\n",
       "      <td>...</td>\n",
       "      <td>...</td>\n",
       "      <td>...</td>\n",
       "    </tr>\n",
       "    <tr>\n",
       "      <th>Software engineer</th>\n",
       "      <td>Dennis</td>\n",
       "      <td>bmartin@example.org</td>\n",
       "      <td>001-095-524-2112x257</td>\n",
       "    </tr>\n",
       "    <tr>\n",
       "      <th>Barrister</th>\n",
       "      <td>Steve</td>\n",
       "      <td>latasha46@example.net</td>\n",
       "      <td>001-865-478-5157</td>\n",
       "    </tr>\n",
       "    <tr>\n",
       "      <th>Male</th>\n",
       "      <th>Police officer</th>\n",
       "      <td>Wesley</td>\n",
       "      <td>regina11@example.org</td>\n",
       "      <td>995-542-3004x76800</td>\n",
       "    </tr>\n",
       "    <tr>\n",
       "      <th>Female</th>\n",
       "      <th>Broadcast journalist</th>\n",
       "      <td>Summer</td>\n",
       "      <td>alexiscantrell@example.org</td>\n",
       "      <td>001-273-685-6932x092</td>\n",
       "    </tr>\n",
       "    <tr>\n",
       "      <th>Male</th>\n",
       "      <th>IT sales professional</th>\n",
       "      <td>Mariah</td>\n",
       "      <td>pcopeland@example.org</td>\n",
       "      <td>(341)594-6554x44657</td>\n",
       "    </tr>\n",
       "  </tbody>\n",
       "</table>\n",
       "<p>98 rows × 3 columns</p>\n",
       "</div>"
      ],
      "text/plain": [
       "                                First Name                       Email  \\\n",
       "Sex    Job Title                                                         \n",
       "Female Phytotherapist              Phillip       bethany14@example.com   \n",
       "Male   Homeopath                  Kristine       bthompson@example.com   \n",
       "       Market researcher           Yesenia   kaitlinkaiser@example.com   \n",
       "       Waste management officer       Erin         tconner@example.org   \n",
       "Female Intelligence analyst      Katherine     conniecowan@example.com   \n",
       "...                                    ...                         ...   \n",
       "       Software engineer            Dennis         bmartin@example.org   \n",
       "       Barrister                     Steve       latasha46@example.net   \n",
       "Male   Police officer               Wesley        regina11@example.org   \n",
       "Female Broadcast journalist         Summer  alexiscantrell@example.org   \n",
       "Male   IT sales professional        Mariah       pcopeland@example.org   \n",
       "\n",
       "                                                 Phone  \n",
       "Sex    Job Title                                        \n",
       "Female Phytotherapist                214.112.6044x4913  \n",
       "Male   Homeopath                          277.609.7938  \n",
       "       Market researcher                  584.094.6111  \n",
       "       Waste management officer  001-171-649-9856x5553  \n",
       "Female Intelligence analyst      +1-773-151-6685x49162  \n",
       "...                                                ...  \n",
       "       Software engineer          001-095-524-2112x257  \n",
       "       Barrister                      001-865-478-5157  \n",
       "Male   Police officer               995-542-3004x76800  \n",
       "Female Broadcast journalist       001-273-685-6932x092  \n",
       "Male   IT sales professional       (341)594-6554x44657  \n",
       "\n",
       "[98 rows x 3 columns]"
      ]
     },
     "execution_count": 8,
     "metadata": {},
     "output_type": "execute_result"
    }
   ],
   "source": [
    "# Set \"Sex\" and \"Job Title\" as index columns\n",
    "data_people.set_index([\"Sex\", \"Job Title\"], inplace=True)\n",
    "data_people\n"
   ]
  },
  {
   "cell_type": "code",
   "execution_count": 9,
   "id": "49dd7858-37f5-4360-8036-e2f600753a92",
   "metadata": {},
   "outputs": [
    {
     "name": "stdout",
     "output_type": "stream",
     "text": [
      "Data exported successfully to 'NewPeople.csv'\n"
     ]
    }
   ],
   "source": [
    "# Export the DataFrame to a new CSV file named 'NewPeople.csv'\n",
    "export_file_path = 'NewPeople.csv'\n",
    "data_people.to_csv(export_file_path)\n",
    "\n",
    "print(\"Data exported successfully to 'NewPeople.csv'\")"
   ]
  },
  {
   "cell_type": "markdown",
   "id": "a6053c88-766a-4328-9105-8bbfba9994b2",
   "metadata": {},
   "source": [
    "## QUESTION NO 7\n",
    "### Import excel sheet ‘SampleWork.xlsx’ in the given folder. Keep in mind the following instructions:\n",
    "### Import sheet 1\n",
    "### Import only first and last column from sheet 1\n",
    "### Skip row 2 while importing the sheet\n",
    "### Set row 2 as header\n",
    "### export as new sheet.\n"
   ]
  },
  {
   "cell_type": "code",
   "execution_count": 10,
   "id": "f5fb837d-522f-402e-81e1-6b2fba15944e",
   "metadata": {},
   "outputs": [
    {
     "data": {
      "text/html": [
       "<div>\n",
       "<style scoped>\n",
       "    .dataframe tbody tr th:only-of-type {\n",
       "        vertical-align: middle;\n",
       "    }\n",
       "\n",
       "    .dataframe tbody tr th {\n",
       "        vertical-align: top;\n",
       "    }\n",
       "\n",
       "    .dataframe thead th {\n",
       "        text-align: right;\n",
       "    }\n",
       "</style>\n",
       "<table border=\"1\" class=\"dataframe\">\n",
       "  <thead>\n",
       "    <tr style=\"text-align: right;\">\n",
       "      <th></th>\n",
       "      <th>Bilal</th>\n",
       "    </tr>\n",
       "  </thead>\n",
       "  <tbody>\n",
       "    <tr>\n",
       "      <th>0</th>\n",
       "      <td>Sufyan</td>\n",
       "    </tr>\n",
       "    <tr>\n",
       "      <th>1</th>\n",
       "      <td>Saiqa</td>\n",
       "    </tr>\n",
       "    <tr>\n",
       "      <th>2</th>\n",
       "      <td>Aimen</td>\n",
       "    </tr>\n",
       "  </tbody>\n",
       "</table>\n",
       "</div>"
      ],
      "text/plain": [
       "    Bilal\n",
       "0  Sufyan\n",
       "1   Saiqa\n",
       "2   Aimen"
      ]
     },
     "execution_count": 10,
     "metadata": {},
     "output_type": "execute_result"
    }
   ],
   "source": [
    "sample_work_df='SampleWork.xlsx'\n",
    "sample_work_df = pd.read_excel('SampleWork.xlsx', sheet_name=0, usecols=[0, -1], skiprows=[1], header=1)\n",
    "sample_work_df"
   ]
  },
  {
   "cell_type": "code",
   "execution_count": 11,
   "id": "c8cccbcc-4960-43ab-9acd-5bb7a745bd06",
   "metadata": {},
   "outputs": [
    {
     "name": "stdout",
     "output_type": "stream",
     "text": [
      "Data exported successfully to 'NewSheet.xlsx'\n"
     ]
    }
   ],
   "source": [
    "# Export the DataFrame to a new Excel sheet named 'NewSheet'\n",
    "export_file_path = 'NewSheet.xlsx'\n",
    "sample_work_df.to_excel(export_file_path, index=False)\n",
    "\n",
    "print(\"Data exported successfully to 'NewSheet.xlsx'\")"
   ]
  },
  {
   "cell_type": "markdown",
   "id": "d7b87276-0497-48cf-aaae-adebe3df2051",
   "metadata": {},
   "source": [
    "## QUESTION NO 8: \n",
    "### Create the following dataframe as AICP_DF then implement different operations as described below:\n",
    "### select 'Name', 'Qualification' coloumns and save to df1 add a new column to AICP_DF “Height” with the following values: [5.1, 6.2, 5.1, 5.2,5.1]\n",
    "### set column “Name” as the index column.\n",
    "### retrieve row with index “Hifza”\n",
    "### retrieve row with index 3\n",
    "### drop row with index “Bilal”"
   ]
  },
  {
   "cell_type": "code",
   "execution_count": 12,
   "id": "c9be2a8e-7b4d-4429-a7b7-4e72a6b7a2c9",
   "metadata": {},
   "outputs": [
    {
     "data": {
      "text/html": [
       "<div>\n",
       "<style scoped>\n",
       "    .dataframe tbody tr th:only-of-type {\n",
       "        vertical-align: middle;\n",
       "    }\n",
       "\n",
       "    .dataframe tbody tr th {\n",
       "        vertical-align: top;\n",
       "    }\n",
       "\n",
       "    .dataframe thead th {\n",
       "        text-align: right;\n",
       "    }\n",
       "</style>\n",
       "<table border=\"1\" class=\"dataframe\">\n",
       "  <thead>\n",
       "    <tr style=\"text-align: right;\">\n",
       "      <th></th>\n",
       "      <th>Name</th>\n",
       "      <th>Age</th>\n",
       "      <th>Address</th>\n",
       "      <th>Qualification</th>\n",
       "    </tr>\n",
       "  </thead>\n",
       "  <tbody>\n",
       "    <tr>\n",
       "      <th>0</th>\n",
       "      <td>Sonia</td>\n",
       "      <td>27</td>\n",
       "      <td>Lahore</td>\n",
       "      <td>Msc</td>\n",
       "    </tr>\n",
       "    <tr>\n",
       "      <th>1</th>\n",
       "      <td>Bilal</td>\n",
       "      <td>24</td>\n",
       "      <td>Karachi</td>\n",
       "      <td>MA</td>\n",
       "    </tr>\n",
       "    <tr>\n",
       "      <th>2</th>\n",
       "      <td>Hifza</td>\n",
       "      <td>22</td>\n",
       "      <td>Sialkot</td>\n",
       "      <td>MCA</td>\n",
       "    </tr>\n",
       "    <tr>\n",
       "      <th>3</th>\n",
       "      <td>Kabir</td>\n",
       "      <td>32</td>\n",
       "      <td>Peshawr</td>\n",
       "      <td>Phd</td>\n",
       "    </tr>\n",
       "    <tr>\n",
       "      <th>4</th>\n",
       "      <td>Jazim</td>\n",
       "      <td>23</td>\n",
       "      <td>lhr</td>\n",
       "      <td>Bsc</td>\n",
       "    </tr>\n",
       "  </tbody>\n",
       "</table>\n",
       "</div>"
      ],
      "text/plain": [
       "    Name  Age  Address Qualification\n",
       "0  Sonia   27   Lahore           Msc\n",
       "1  Bilal   24  Karachi            MA\n",
       "2  Hifza   22  Sialkot           MCA\n",
       "3  Kabir   32  Peshawr           Phd\n",
       "4  Jazim   23      lhr           Bsc"
      ]
     },
     "execution_count": 12,
     "metadata": {},
     "output_type": "execute_result"
    }
   ],
   "source": [
    "\n",
    "data5 = {'Name': ['Sonia', 'Bilal', 'Hifza', 'Kabir', 'Jazim'],\n",
    "        'Age': [27,24,22,32,23],\n",
    "        'Address': ['Lahore','Karachi','Sialkot','Peshawr','lhr'],\n",
    "        'Qualification': ['Msc', 'MA', 'MCA', 'Phd', 'Bsc'],}\n",
    "\n",
    "# Creating a DataFrame\n",
    "AICP_DF = pd.DataFrame(data5)\n",
    "\n",
    "# Display the DataFrame\n",
    "AICP_DF\n"
   ]
  },
  {
   "cell_type": "code",
   "execution_count": 13,
   "id": "03b5fc9e-9150-44c0-8337-5193f61404af",
   "metadata": {},
   "outputs": [],
   "source": [
    "# Selecting 'Name', 'Qualification' columns and saving to df1\n",
    "df1 = AICP_DF[['Name', 'Qualification']]"
   ]
  },
  {
   "cell_type": "code",
   "execution_count": 14,
   "id": "a83ce393-683e-4a0b-8902-d3cee50a984c",
   "metadata": {},
   "outputs": [],
   "source": [
    "# Adding a new column \"Height\" to AICP_DF\n",
    "AICP_DF['Height'] = [5.1, 6.2, 5.1, 5.2, 5.1]"
   ]
  },
  {
   "cell_type": "code",
   "execution_count": 15,
   "id": "6ddf12c8-05e5-4309-8c2a-8fd58d29b517",
   "metadata": {},
   "outputs": [],
   "source": [
    "# Setting column \"Name\" as the index column\n",
    "AICP_DF.set_index('Name', inplace=True)"
   ]
  },
  {
   "cell_type": "code",
   "execution_count": 16,
   "id": "7161059d-dba1-4ca1-a0f5-a918948ba21e",
   "metadata": {},
   "outputs": [],
   "source": [
    "# Retrieving row with index \"Hifza\"\n",
    "row_hifza = AICP_DF.loc['Hifza']"
   ]
  },
  {
   "cell_type": "code",
   "execution_count": 17,
   "id": "6cc80de1-46a3-41c1-a1df-a51f85252786",
   "metadata": {},
   "outputs": [],
   "source": [
    "# Retrieving row with index 3\n",
    "row_index_3 = AICP_DF.iloc[3]"
   ]
  },
  {
   "cell_type": "code",
   "execution_count": 18,
   "id": "1ecc5da6-2eda-4318-a7ee-b3f9a97cb558",
   "metadata": {},
   "outputs": [],
   "source": [
    "# Dropping row with index \"Bilal\"\n",
    "AICP_DF.drop('Bilal', inplace=True)\n"
   ]
  },
  {
   "cell_type": "code",
   "execution_count": 19,
   "id": "4a7d9c01-3647-4179-ac96-2fd050d184cd",
   "metadata": {},
   "outputs": [
    {
     "name": "stdout",
     "output_type": "stream",
     "text": [
      "AICP_DF:\n"
     ]
    },
    {
     "data": {
      "text/html": [
       "<div>\n",
       "<style scoped>\n",
       "    .dataframe tbody tr th:only-of-type {\n",
       "        vertical-align: middle;\n",
       "    }\n",
       "\n",
       "    .dataframe tbody tr th {\n",
       "        vertical-align: top;\n",
       "    }\n",
       "\n",
       "    .dataframe thead th {\n",
       "        text-align: right;\n",
       "    }\n",
       "</style>\n",
       "<table border=\"1\" class=\"dataframe\">\n",
       "  <thead>\n",
       "    <tr style=\"text-align: right;\">\n",
       "      <th></th>\n",
       "      <th>Age</th>\n",
       "      <th>Address</th>\n",
       "      <th>Qualification</th>\n",
       "      <th>Height</th>\n",
       "    </tr>\n",
       "    <tr>\n",
       "      <th>Name</th>\n",
       "      <th></th>\n",
       "      <th></th>\n",
       "      <th></th>\n",
       "      <th></th>\n",
       "    </tr>\n",
       "  </thead>\n",
       "  <tbody>\n",
       "    <tr>\n",
       "      <th>Sonia</th>\n",
       "      <td>27</td>\n",
       "      <td>Lahore</td>\n",
       "      <td>Msc</td>\n",
       "      <td>5.1</td>\n",
       "    </tr>\n",
       "    <tr>\n",
       "      <th>Hifza</th>\n",
       "      <td>22</td>\n",
       "      <td>Sialkot</td>\n",
       "      <td>MCA</td>\n",
       "      <td>5.1</td>\n",
       "    </tr>\n",
       "    <tr>\n",
       "      <th>Kabir</th>\n",
       "      <td>32</td>\n",
       "      <td>Peshawr</td>\n",
       "      <td>Phd</td>\n",
       "      <td>5.2</td>\n",
       "    </tr>\n",
       "    <tr>\n",
       "      <th>Jazim</th>\n",
       "      <td>23</td>\n",
       "      <td>lhr</td>\n",
       "      <td>Bsc</td>\n",
       "      <td>5.1</td>\n",
       "    </tr>\n",
       "  </tbody>\n",
       "</table>\n",
       "</div>"
      ],
      "text/plain": [
       "       Age  Address Qualification  Height\n",
       "Name                                     \n",
       "Sonia   27   Lahore           Msc     5.1\n",
       "Hifza   22  Sialkot           MCA     5.1\n",
       "Kabir   32  Peshawr           Phd     5.2\n",
       "Jazim   23      lhr           Bsc     5.1"
      ]
     },
     "execution_count": 19,
     "metadata": {},
     "output_type": "execute_result"
    }
   ],
   "source": [
    "# Displaying the DataFrames and results\n",
    "print(\"AICP_DF:\")\n",
    "(AICP_DF)"
   ]
  },
  {
   "cell_type": "code",
   "execution_count": 20,
   "id": "4a3ec949-65f1-4073-92aa-4e430ea4af94",
   "metadata": {},
   "outputs": [
    {
     "name": "stdout",
     "output_type": "stream",
     "text": [
      "\n",
      "df1:\n"
     ]
    },
    {
     "data": {
      "text/html": [
       "<div>\n",
       "<style scoped>\n",
       "    .dataframe tbody tr th:only-of-type {\n",
       "        vertical-align: middle;\n",
       "    }\n",
       "\n",
       "    .dataframe tbody tr th {\n",
       "        vertical-align: top;\n",
       "    }\n",
       "\n",
       "    .dataframe thead th {\n",
       "        text-align: right;\n",
       "    }\n",
       "</style>\n",
       "<table border=\"1\" class=\"dataframe\">\n",
       "  <thead>\n",
       "    <tr style=\"text-align: right;\">\n",
       "      <th></th>\n",
       "      <th>Name</th>\n",
       "      <th>Qualification</th>\n",
       "    </tr>\n",
       "  </thead>\n",
       "  <tbody>\n",
       "    <tr>\n",
       "      <th>0</th>\n",
       "      <td>Sonia</td>\n",
       "      <td>Msc</td>\n",
       "    </tr>\n",
       "    <tr>\n",
       "      <th>1</th>\n",
       "      <td>Bilal</td>\n",
       "      <td>MA</td>\n",
       "    </tr>\n",
       "    <tr>\n",
       "      <th>2</th>\n",
       "      <td>Hifza</td>\n",
       "      <td>MCA</td>\n",
       "    </tr>\n",
       "    <tr>\n",
       "      <th>3</th>\n",
       "      <td>Kabir</td>\n",
       "      <td>Phd</td>\n",
       "    </tr>\n",
       "    <tr>\n",
       "      <th>4</th>\n",
       "      <td>Jazim</td>\n",
       "      <td>Bsc</td>\n",
       "    </tr>\n",
       "  </tbody>\n",
       "</table>\n",
       "</div>"
      ],
      "text/plain": [
       "    Name Qualification\n",
       "0  Sonia           Msc\n",
       "1  Bilal            MA\n",
       "2  Hifza           MCA\n",
       "3  Kabir           Phd\n",
       "4  Jazim           Bsc"
      ]
     },
     "execution_count": 20,
     "metadata": {},
     "output_type": "execute_result"
    }
   ],
   "source": [
    "print(\"\\ndf1:\")\n",
    "df1"
   ]
  },
  {
   "cell_type": "code",
   "execution_count": 21,
   "id": "55dd5432-72a3-4ea2-9212-f4a8ffe42c8c",
   "metadata": {},
   "outputs": [
    {
     "name": "stdout",
     "output_type": "stream",
     "text": [
      "\n",
      "Row with index 'Hifza':\n"
     ]
    },
    {
     "data": {
      "text/plain": [
       "Age                   22\n",
       "Address          Sialkot\n",
       "Qualification        MCA\n",
       "Height               5.1\n",
       "Name: Hifza, dtype: object"
      ]
     },
     "execution_count": 21,
     "metadata": {},
     "output_type": "execute_result"
    }
   ],
   "source": [
    "print (\"\\nRow with index 'Hifza':\")\n",
    "row_hifza"
   ]
  },
  {
   "cell_type": "code",
   "execution_count": 22,
   "id": "b109ecd0-127f-4e44-98c7-fb002b886349",
   "metadata": {},
   "outputs": [
    {
     "name": "stdout",
     "output_type": "stream",
     "text": [
      "\n",
      "Row with index 3:\n"
     ]
    },
    {
     "data": {
      "text/plain": [
       "Age                   32\n",
       "Address          Peshawr\n",
       "Qualification        Phd\n",
       "Height               5.2\n",
       "Name: Kabir, dtype: object"
      ]
     },
     "execution_count": 22,
     "metadata": {},
     "output_type": "execute_result"
    }
   ],
   "source": [
    "print(\"\\nRow with index 3:\")\n",
    "row_index_3"
   ]
  },
  {
   "cell_type": "code",
   "execution_count": null,
   "id": "369a2f46-1628-4afe-b96b-212bb6a87d0b",
   "metadata": {},
   "outputs": [],
   "source": []
  }
 ],
 "metadata": {
  "kernelspec": {
   "display_name": "Python 3 (ipykernel)",
   "language": "python",
   "name": "python3"
  },
  "language_info": {
   "codemirror_mode": {
    "name": "ipython",
    "version": 3
   },
   "file_extension": ".py",
   "mimetype": "text/x-python",
   "name": "python",
   "nbconvert_exporter": "python",
   "pygments_lexer": "ipython3",
   "version": "3.11.4"
  }
 },
 "nbformat": 4,
 "nbformat_minor": 5
}
